{
 "cells": [
  {
   "cell_type": "markdown",
   "metadata": {},
   "source": [
    "# Getting Started with Natural Language Processing"
   ]
  },
  {
   "cell_type": "markdown",
   "metadata": {},
   "source": [
    "This tutorial is targeted at Machine learning beginners who are looking to get started quickly using Amazon's Natural Language Processing APIs.  In this tutorial we will explore how to send and receive data from the Amazon Comprehend API using both the UI, and programatically in Python.  "
   ]
  },
  {
   "cell_type": "markdown",
   "metadata": {},
   "source": [
    "### What is Machine Learning"
   ]
  },
  {
   "cell_type": "markdown",
   "metadata": {},
   "source": [
    "Arthur Samuel in 1959 defined machine learning as the \"field of study that gives computers the ability to learn without being explicitly programmed\". Machine learning models are trained on sets of data that allows a computer algorithm to determine the result when unknown data is encountered."
   ]
  },
  {
   "cell_type": "markdown",
   "metadata": {},
   "source": [
    "### What is Natural Language Processing"
   ]
  },
  {
   "cell_type": "markdown",
   "metadata": {},
   "source": [
    "Natural Language Processing is the application of machine learning to human text and speech. This allows the computer to recognize the appropriate words, phrases, responses and other details from text."
   ]
  },
  {
   "cell_type": "markdown",
   "metadata": {},
   "source": [
    "#### Amazon Comprehend"
   ]
  },
  {
   "cell_type": "markdown",
   "metadata": {},
   "source": [
    "Amazon Comprehend is a natural language processing service which can be used to easily and quickly apply NLP analysis to textual data. Using the comprehend APIs you can understand relationships and insights of your data without having to train your own NLP models."
   ]
  },
  {
   "cell_type": "markdown",
   "metadata": {},
   "source": [
    "# **Lab:** Getting Started Using the Amazon Comprehend UI"
   ]
  },
  {
   "cell_type": "markdown",
   "metadata": {},
   "source": [
    "Getting started with Amazon Comprehend is easy! We will walk through getting started on Amazon Comprehend using the provided UI.\n",
    "\n",
    "1) Navigate to [Amazon Comprehend Console](https://us-west-2.console.aws.amazon.com/comprehend/v2/home?region=us-west-2#welcome). \n",
    "\n",
    "2) Select `Launch Amazon Comprehend` to launch the real time analysis tool.\n",
    "\n",
    "3) Select `Analyze` to see the results for the sample text.\n",
    "\n",
    "![Real time analysis](./assets/realtime-analysis.png)\n",
    "\n",
    "4) By selecting the `analyze` button we have run the sample text through Amazon's Comprehend - Natural Language Processing API. AWS does the heavy lifting for us to classify the text against a machine learning model.  The results window in the `Entities` tab is classified by the Detect Entities operation based on the input text. You can see how different words and phrases are classified along with the models confidence that the analysis is correct.  For a list of different classifications used by the Detect Entities API [see the Amazon documentation.](https://docs.aws.amazon.com/comprehend/latest/dg/how-entities.html)\n",
    "\n",
    "- Select the `Key Phrases` Tab to view the nouns detected in the input text. \n",
    "- Select the `Languages` Tab to view the detected language.\n",
    "- Select the `Sentiment` Tab to view if the text was determined to have a positive, negative, or neutral tone.\n",
    "- Select the `Syntax` Tab to view classifications of the text elements as verbs, nouns, adjectives, adposition, adverb, auxilary, or coordinating conjunction.\n",
    "\n",
    "![Entity result](./assets/entity-result.png)\n"
   ]
  },
  {
   "cell_type": "markdown",
   "metadata": {},
   "source": [
    "# **Lab:** Integrating with Amazon Comprehend using Python\n",
    "Amazon has made it easy to use their services with Python by publishing an SDK called `boto3`. It is imported like any other library in Python is, and with it, we can construct what is called a *client*. If you've never used service SDKs like this before, the concept of a \"client\" will come up a lot. In short, a client is an object that we provide some basic information such as AWS region and what service we want. This object then will have easy-to-use functions for each thing we'd like to do.\n",
    "\n",
    "Below is an example of detecting entities on the string *It is raining today in Seattle*. A breakdown of the code can be found below the output."
   ]
  },
  {
   "cell_type": "code",
   "execution_count": 20,
   "metadata": {},
   "outputs": [
    {
     "name": "stdout",
     "output_type": "stream",
     "text": [
      "{\n",
      "    \"Entities\": [\n",
      "        {\n",
      "            \"BeginOffset\": 14,\n",
      "            \"EndOffset\": 19,\n",
      "            \"Score\": 0.9999421834945679,\n",
      "            \"Text\": \"today\",\n",
      "            \"Type\": \"DATE\"\n",
      "        },\n",
      "        {\n",
      "            \"BeginOffset\": 23,\n",
      "            \"EndOffset\": 30,\n",
      "            \"Score\": 0.999826967716217,\n",
      "            \"Text\": \"Seattle\",\n",
      "            \"Type\": \"LOCATION\"\n",
      "        }\n",
      "    ],\n",
      "    \"ResponseMetadata\": {\n",
      "        \"HTTPHeaders\": {\n",
      "            \"content-length\": \"199\",\n",
      "            \"content-type\": \"application/x-amz-json-1.1\",\n",
      "            \"date\": \"Thu, 21 May 2020 01:36:14 GMT\",\n",
      "            \"x-amzn-requestid\": \"86200961-7820-41d9-bbbc-db6c13117f3a\"\n",
      "        },\n",
      "        \"HTTPStatusCode\": 200,\n",
      "        \"RequestId\": \"86200961-7820-41d9-bbbc-db6c13117f3a\",\n",
      "        \"RetryAttempts\": 0\n",
      "    }\n",
      "}\n"
     ]
    }
   ],
   "source": [
    "import boto3\n",
    "import json\n",
    "\n",
    "comprehend = boto3.client(service_name='comprehend', region_name='us-west-2')\n",
    "text = \"It is raining today in Seattle\"\n",
    "\n",
    "entities = comprehend.detect_entities(Text=text, LanguageCode='en')\n",
    "outputStr = json.dumps(entities, sort_keys=True, indent=4)\n",
    "print(outputStr)"
   ]
  },
  {
   "cell_type": "markdown",
   "metadata": {},
   "source": [
    "We can see in the `Entities` section of the output that the API has marked Seattle as a LOCATION and \"today\" as a DATE - not bad! Let's take a look at how our code snippet works.\n",
    "\n",
    "```\n",
    "import boto3\n",
    "import json\n",
    "```\n",
    "The first two lines of the code are just importing the libraries we need - `boto3` being Amazon's client library, and `json` being a utility to format the output we receive from them.  \n",
    "\n",
    "```\n",
    "comprehend = boto3.client(service_name='comprehend', region_name='us-west-2')\n",
    "```  \n",
    "The call `boto3.client` is used to build a client for many of Amazon's services - this is why we must say we'd like a Comprehend client by passing a `service_name` argument. The `region_name` argument is set to the AWS Region your project is in - you can see this string by clicking the region dropdown at the top of the AWS console.\n",
    "\n",
    "![Region String](./assets/region_string.png)\n",
    "\n",
    "```\n",
    "text = \"It is raining today in Seattle\"\n",
    "```  \n",
    "Here we are setting a variable equal to the string that we'd like Comprehend to analyze.\n",
    "\n",
    "```\n",
    "entities = comprehend.detect_entities(Text=text, LanguageCode='en')\n",
    "```  \n",
    "The star of the show - `comprehend.detect_entities`. This method takes an argument `Text`, which we set to the variable we set just a line before. This call also requires a language code, so we've provided \"en\" to signify we're processing English text.\n",
    "\n",
    "```\n",
    "outputStr = json.dumps(entities, sort_keys=True, indent=4)\n",
    "print(outputStr)\n",
    "```  \n",
    "The final two lines are formatting the response so we could print it. \n",
    "\n",
    "### Your Turn!\n",
    "Now it's your turn to write some code for Amazon's Comprehend API. You saw in the web-based exploration tool that Comprehend can analyze the \"sentiment\" of text. Your task is to analyze the sentiment of the `text` object and store it to an object called `sentimentData`. [API Documentation for Comprehend can be found here](https://docs.aws.amazon.com/comprehend/latest/dg/get-started-api.html) - make sure you study the Python sections!"
   ]
  },
  {
   "cell_type": "code",
   "execution_count": 17,
   "metadata": {},
   "outputs": [
    {
     "ename": "NameError",
     "evalue": "name 'sentimentData' is not defined",
     "output_type": "error",
     "traceback": [
      "\u001b[0;31m---------------------------------------------------------------------------\u001b[0m",
      "\u001b[0;31mNameError\u001b[0m                                 Traceback (most recent call last)",
      "\u001b[0;32m<ipython-input-17-2aa34d1c53d9>\u001b[0m in \u001b[0;36m<module>\u001b[0;34m()\u001b[0m\n\u001b[1;32m     14\u001b[0m \u001b[0;34m\u001b[0m\u001b[0m\n\u001b[1;32m     15\u001b[0m \u001b[0;31m# Print the results\u001b[0m\u001b[0;34m\u001b[0m\u001b[0;34m\u001b[0m\u001b[0m\n\u001b[0;32m---> 16\u001b[0;31m \u001b[0moutputStr\u001b[0m \u001b[0;34m=\u001b[0m \u001b[0mjson\u001b[0m\u001b[0;34m.\u001b[0m\u001b[0mdumps\u001b[0m\u001b[0;34m(\u001b[0m\u001b[0msentimentData\u001b[0m\u001b[0;34m,\u001b[0m \u001b[0msort_keys\u001b[0m\u001b[0;34m=\u001b[0m\u001b[0;32mTrue\u001b[0m\u001b[0;34m,\u001b[0m \u001b[0mindent\u001b[0m\u001b[0;34m=\u001b[0m\u001b[0;36m4\u001b[0m\u001b[0;34m)\u001b[0m\u001b[0;34m\u001b[0m\u001b[0m\n\u001b[0m\u001b[1;32m     17\u001b[0m \u001b[0mprint\u001b[0m\u001b[0;34m(\u001b[0m\u001b[0moutputStr\u001b[0m\u001b[0;34m)\u001b[0m\u001b[0;34m\u001b[0m\u001b[0m\n",
      "\u001b[0;31mNameError\u001b[0m: name 'sentimentData' is not defined"
     ]
    }
   ],
   "source": [
    "import boto3\n",
    "import json\n",
    "\n",
    "# Set up the client library\n",
    "comprehend = boto3.client(service_name='comprehend', region_name='us-west-2')\n",
    "\n",
    "# Specify the string we're going to send to the NLP process\n",
    "text = \"It's a shame that it's raining in Seattle today.\"\n",
    "\n",
    "## Your code goes here - make sure the result of your\n",
    "## sentiment analysis call gets stored in a variable\n",
    "## called sentimentData\n",
    "\n",
    "# Print the results\n",
    "outputStr = json.dumps(sentimentData, sort_keys=True, indent=4)\n",
    "print(outputStr)"
   ]
  },
  {
   "cell_type": "code",
   "execution_count": null,
   "metadata": {},
   "outputs": [],
   "source": []
  }
 ],
 "metadata": {
  "kernelspec": {
   "display_name": "conda_python3",
   "language": "python",
   "name": "conda_python3"
  },
  "language_info": {
   "codemirror_mode": {
    "name": "ipython",
    "version": 3
   },
   "file_extension": ".py",
   "mimetype": "text/x-python",
   "name": "python",
   "nbconvert_exporter": "python",
   "pygments_lexer": "ipython3",
   "version": "3.6.5"
  }
 },
 "nbformat": 4,
 "nbformat_minor": 4
}